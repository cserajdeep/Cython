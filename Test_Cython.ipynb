{
 "cells": [
  {
   "cell_type": "code",
   "execution_count": 1,
   "metadata": {},
   "outputs": [
    {
     "name": "stdout",
     "output_type": "stream",
     "text": [
      "Requirement already satisfied: cython in c:\\users\\csera\\appdata\\roaming\\python\\python37\\site-packages (0.29.21)"
     ]
    },
    {
     "name": "stderr",
     "output_type": "stream",
     "text": [
      "WARNING: pip is being invoked by an old script wrapper. This will fail in a future version of pip.\n",
      "Please see https://github.com/pypa/pip/issues/5599 for advice on fixing the underlying issue.\n",
      "To avoid this problem you can invoke Python with '-m pip' instead of running pip directly.\n",
      "WARNING: You are using pip version 21.0; however, version 21.0.1 is available.\n",
      "You should consider upgrading via the 'C:\\ProgramData\\Anaconda3\\python.exe -m pip install --upgrade pip' command.\n"
     ]
    },
    {
     "name": "stdout",
     "output_type": "stream",
     "text": [
      "\n"
     ]
    }
   ],
   "source": [
    "!pip install cython"
   ]
  },
  {
   "cell_type": "code",
   "execution_count": 3,
   "metadata": {},
   "outputs": [
    {
     "name": "stdout",
     "output_type": "stream",
     "text": [
      "Compiling run_cython.pyx because it changed."
     ]
    },
    {
     "name": "stderr",
     "output_type": "stream",
     "text": [
      "C:\\Users\\csera\\AppData\\Roaming\\Python\\Python37\\site-packages\\Cython\\Compiler\\Main.py:369: FutureWarning: Cython directive 'language_level' not set, using 2 for now (Py2). This will change in a later release! File: C:\\Users\\csera\\Documents\\Python_Scripts\\RAJDEEP_C17\\cython\\run_cython.pyx\n",
      "  tree = Parsing.p_module(s, pxd, full_module_name)\n"
     ]
    },
    {
     "name": "stdout",
     "output_type": "stream",
     "text": [
      "\n",
      "[1/1] Cythonizing run_cython.pyx\n",
      "running build_ext\n",
      "building 'run_cython' extension\n",
      "C:\\Program Files (x86)\\Microsoft Visual Studio\\2019\\Community\\VC\\Tools\\MSVC\\14.28.29333\\bin\\HostX86\\x64\\cl.exe /c /nologo /Ox /W3 /GL /DNDEBUG /MT -IC:\\ProgramData\\Anaconda3\\include -IC:\\ProgramData\\Anaconda3\\include \"-IC:\\Program Files (x86)\\Microsoft Visual Studio\\2019\\Community\\VC\\Tools\\MSVC\\14.28.29333\\include\" \"-IC:\\Program Files (x86)\\Windows Kits\\NETFXSDK\\4.6.1\\include\\um\" \"-IC:\\Program Files (x86)\\Windows Kits\\10\\include\\10.0.17763.0\\ucrt\" \"-IC:\\Program Files (x86)\\Windows Kits\\10\\include\\10.0.17763.0\\shared\" \"-IC:\\Program Files (x86)\\Windows Kits\\10\\include\\10.0.17763.0\\um\" \"-IC:\\Program Files (x86)\\Windows Kits\\10\\include\\10.0.17763.0\\winrt\" \"-IC:\\Program Files (x86)\\Windows Kits\\10\\include\\10.0.17763.0\\cppwinrt\" /Tcrun_cython.c /Fobuild\\temp.win-amd64-3.7\\Release\\run_cython.obj\n",
      "run_cython.c\n",
      "C:\\Program Files (x86)\\Microsoft Visual Studio\\2019\\Community\\VC\\Tools\\MSVC\\14.28.29333\\bin\\HostX86\\x64\\link.exe /nologo /INCREMENTAL:NO /LTCG /nodefaultlib:libucrt.lib ucrt.lib /DLL /MANIFEST:EMBED,ID=2 /MANIFESTUAC:NO /LIBPATH:C:\\ProgramData\\Anaconda3\\libs /LIBPATH:C:\\ProgramData\\Anaconda3\\PCbuild\\amd64 \"/LIBPATH:C:\\Program Files (x86)\\Microsoft Visual Studio\\2019\\Community\\VC\\Tools\\MSVC\\14.28.29333\\lib\\x64\" \"/LIBPATH:C:\\Program Files (x86)\\Windows Kits\\NETFXSDK\\4.6.1\\lib\\um\\x64\" \"/LIBPATH:C:\\Program Files (x86)\\Windows Kits\\10\\lib\\10.0.17763.0\\ucrt\\x64\" \"/LIBPATH:C:\\Program Files (x86)\\Windows Kits\\10\\lib\\10.0.17763.0\\um\\x64\" /EXPORT:PyInit_run_cython build\\temp.win-amd64-3.7\\Release\\run_cython.obj /OUT:C:\\Users\\csera\\Documents\\Python_Scripts\\RAJDEEP_C17\\cython\\run_cython.cp37-win_amd64.pyd /IMPLIB:build\\temp.win-amd64-3.7\\Release\\run_cython.cp37-win_amd64.lib\n",
      "   Creating library build\\temp.win-amd64-3.7\\Release\\run_cython.cp37-win_amd64.lib and object build\\temp.win-amd64-3.7\\Release\\run_cython.cp37-win_amd64.exp\n",
      "Generating code\n",
      "Finished generating code\n"
     ]
    }
   ],
   "source": [
    "!python setup.py build_ext --inplace"
   ]
  },
  {
   "cell_type": "code",
   "execution_count": 9,
   "metadata": {},
   "outputs": [
    {
     "name": "stdout",
     "output_type": "stream",
     "text": [
      "Pure Python Execution Time: 2.359158754\n",
      "Cython Execution Time: 0\n",
      "Speed up: 2.4e+100\n"
     ]
    }
   ],
   "source": [
    "import pyximport; pyximport.install(pyimport=True)\n",
    "import run_python\n",
    "import run_cython\n",
    "import time\n",
    "\n",
    "n=100000\n",
    "\n",
    "start=time.time()\n",
    "run_python.test(n)\n",
    "end=time.time()\n",
    "\n",
    "python_time=end-start\n",
    "print('Pure Python Execution Time: {:.10g}'.format(python_time))\n",
    "\n",
    "start=time.time()\n",
    "run_cython.test(n)\n",
    "end=time.time()\n",
    "\n",
    "cython_time=end-start\n",
    "print('Cython Execution Time: {:.10g}'.format(cython_time))\n",
    "\n",
    "print('Speed up: {:.2g}'.format(python_time/(cython_time+1e-100)))"
   ]
  },
  {
   "cell_type": "code",
   "execution_count": 10,
   "metadata": {},
   "outputs": [
    {
     "name": "stdout",
     "output_type": "stream",
     "text": [
      "0.17946849999862025 7.724531599997135\n",
      "Cython is 43.04115541198885x faster\n"
     ]
    }
   ],
   "source": [
    "#testing_things.py\n",
    "import timeit\n",
    "\n",
    "number=100\n",
    "\n",
    "py = timeit.timeit('''run_python.test('''+str(number)+''')''',setup='import run_python')\n",
    "cy = timeit.timeit('''run_cython.test('''+str(number)+''')''',setup='import run_cython')\n",
    "\n",
    "print(cy, py)\n",
    "print('Cython is {}x faster'.format(py/cy))"
   ]
  },
  {
   "cell_type": "code",
   "execution_count": null,
   "metadata": {},
   "outputs": [],
   "source": []
  },
  {
   "cell_type": "code",
   "execution_count": null,
   "metadata": {},
   "outputs": [],
   "source": []
  }
 ],
 "metadata": {
  "kernelspec": {
   "display_name": "Python 3",
   "language": "python",
   "name": "python3"
  },
  "language_info": {
   "codemirror_mode": {
    "name": "ipython",
    "version": 3
   },
   "file_extension": ".py",
   "mimetype": "text/x-python",
   "name": "python",
   "nbconvert_exporter": "python",
   "pygments_lexer": "ipython3",
   "version": "3.7.4"
  }
 },
 "nbformat": 4,
 "nbformat_minor": 4
}
